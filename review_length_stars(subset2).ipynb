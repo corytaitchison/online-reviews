{
 "cells": [
  {
   "cell_type": "code",
   "execution_count": 24,
   "metadata": {},
   "outputs": [],
   "source": [
    "import pandas as pd\n",
    "import numpy as np\n",
    "import random"
   ]
  },
  {
   "cell_type": "code",
   "execution_count": 33,
   "metadata": {},
   "outputs": [],
   "source": [
    "filename = \"review.csv\"\n",
    "n = sum(1 for line in open(filename)) - 1 #number of records in file (excludes header)\n",
    "s = 1000 #desired sample size\n",
    "skip = sorted(random.sample(range(1,n+1),n-s)) #the 0-indexed header will not be included in the skip list\n",
    "df = pd.read_csv(filename, skiprows=skip)\n",
    "sorted_sample = df[df['useful']>0]\n"
   ]
  },
  {
   "cell_type": "code",
   "execution_count": 35,
   "metadata": {},
   "outputs": [
    {
     "name": "stdout",
     "output_type": "stream",
     "text": [
      "[[1.         0.23762563]\n",
      " [0.23762563 1.        ]]\n"
     ]
    }
   ],
   "source": [
    "#review length (useful>0)\n",
    "def countWords(text):\n",
    "    wordCount = [len(text.split(\" \"))]\n",
    "    return np.average(wordCount)\n",
    "\n",
    "avgWords = [countWords(text) for text in sorted_sample.text]\n",
    "avgWordsCorr = np.corrcoef(avgWords, sorted_sample.useful)\n",
    "print(avgWordsCorr)"
   ]
  },
  {
   "cell_type": "code",
   "execution_count": 36,
   "metadata": {},
   "outputs": [
    {
     "name": "stdout",
     "output_type": "stream",
     "text": [
      "[[1.         0.35817309]\n",
      " [0.35817309 1.        ]]\n"
     ]
    }
   ],
   "source": [
    "#review length (all data)\n",
    "def countWords(text):\n",
    "    wordCount = [len(text.split(\" \"))]\n",
    "    return np.average(wordCount)\n",
    "\n",
    "avgWords = [countWords(text) for text in df.text]\n",
    "avgWordsCorr = np.corrcoef(avgWords, df.useful)\n",
    "print(avgWordsCorr)"
   ]
  },
  {
   "cell_type": "code",
   "execution_count": 38,
   "metadata": {},
   "outputs": [
    {
     "name": "stdout",
     "output_type": "stream",
     "text": [
      "[[1.         0.02112049]\n",
      " [0.02112049 1.        ]]\n"
     ]
    }
   ],
   "source": [
    "#stars (useful>0)\n",
    "starCorr = np.corrcoef(sorted_sample.stars, sorted_sample.useful)\n",
    "print(starCorr)"
   ]
  },
  {
   "cell_type": "code",
   "execution_count": 39,
   "metadata": {},
   "outputs": [
    {
     "name": "stdout",
     "output_type": "stream",
     "text": [
      "[[ 1.         -0.09082658]\n",
      " [-0.09082658  1.        ]]\n"
     ]
    }
   ],
   "source": [
    "#stars (useful>0)\n",
    "starCorr = np.corrcoef(df.stars, df.useful)\n",
    "print(starCorr)"
   ]
  },
  {
   "cell_type": "code",
   "execution_count": null,
   "metadata": {},
   "outputs": [],
   "source": []
  }
 ],
 "metadata": {
  "kernelspec": {
   "display_name": "Python 3",
   "language": "python",
   "name": "python3"
  },
  "language_info": {
   "codemirror_mode": {
    "name": "ipython",
    "version": 3
   },
   "file_extension": ".py",
   "mimetype": "text/x-python",
   "name": "python",
   "nbconvert_exporter": "python",
   "pygments_lexer": "ipython3",
   "version": "3.7.1"
  }
 },
 "nbformat": 4,
 "nbformat_minor": 2
}
